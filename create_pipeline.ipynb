{
 "cells": [
  {
   "cell_type": "code",
   "execution_count": 1,
   "metadata": {},
   "outputs": [],
   "source": [
    "#import config  # Import your config.py file this contains you openai api key\n",
    "import pandas as pd\n",
    "import numpy as np\n",
    "from llm_comparison_toolkit import RateLimiter, get_response_openai, get_response_anthropic,  create_config_dict_func, use_df_to_call_llm_api\n"
   ]
  },
  {
   "cell_type": "code",
   "execution_count": 4,
   "metadata": {},
   "outputs": [],
   "source": [
    "dev_data_raw_df = pd.read_csv('data/dev_data_raw.csv')"
   ]
  },
  {
   "cell_type": "code",
   "execution_count": 5,
   "metadata": {},
   "outputs": [],
   "source": [
    "OCR_text = f\"\"\"fcm E ¥ gNlGP «® WOTH ) THE R&PP ^ Ol SPBRBTTS . [ The following Letter was written at our request . The writer , a German friend , whose integrity and clear-headedness would command attention to whatever he might assert , informed us of his proposed visit to a house where the Rappitcs were to exhibit , and we begged him to furnish us with a report . We print his letter without any alteration : its statements will , we think , set the reader speculating .Let it be distinctly borne in mind , however , that in printing this Letter we give no countenance whatever to the pretended explanation of \" Rapping . \" We have our own views of the jugglery by which the \"ghosts \" are made to communicate with persons willing to pay for the interview , and in a very short time we hope to lay before our readers something like an experimental result . ] My dear Sir , —When I proposed to give you a report on these new prophets , who , if as true as they arc new , open to us a wide and most interesting field for inquiry , overthrow ancient and modem systems of science and belief , shake to the very foundation revealed religion andChristianity , hut , on the other hand , arc telling almost equally strong against Pantheism mid Atheism , I had not seen those prophets , expounders , mediums , or whatever you may call them , myself ; hut what I heard from a friend , a clear-sighted , well-informed , by no moans \" gullible , \" or over-credulous gentleman , who had paid them ii visit , had made me anxious to see and judge for myself ; and he having determined , for better satisfaction , to have the Medium ( and the spirits ) at his own house , and having kindly invited me to be present on the occasion , 1 offered to furnish you with a statement of the result of the evening , which I now , agreeably to your wish , lay before you .We were five of us in the library , —my friend , his wife , his sister , his nephew , and myself , —when the footman , handing in a card , announced \"Mrs . JIayden . \" Her entrance and deportment were easy , unembarrassed , and yet not \" business-like ; \" her exterior rather prepossessing ; an intelligent countenance , with , perhaps , a slight touch of Yankccisin in the corner of the eye ; and the conversation soon bring established , showed that she did not lack those powers of speech so peculiar to the . citizens of the great Republic ; though certain mistakes now and then recurring in the conjugation of verbs , indicated that nhe could not have had a very fin ;! -rate education . We took our seats round the table on which the card had been placed , [ mid , — \"Mr . and Mrs . W . R . Jlirydeii , L' 2 , Queen Anne-street , Cavenuish-. squarc . \" Expectation created silence , now and then broken by . qiiestions in a low voice , addressed to the Medium , and by the wheels of carriages that brought guests to an evening party at a neighbouring house , and thus tnadd the otherwise very quirt sired ; liither noisy . Tho raps which the Medium and one or two of us , after we had been seated for about ten\"\"\""
   ]
  },
  {
   "cell_type": "code",
   "execution_count": 6,
   "metadata": {},
   "outputs": [],
   "source": [
    "system_message = f\"\"\"Please recover the text from the corrupted OCR, providing appropriate paragraph breaks. \n",
    "Do not add any text, commentary, or lead in sentences  beyond the recovered text. Do not add a title, or any introductions\"\"\"\n",
    "\n",
    "prompt = OCR_text + \"\\n\\n\" + f\"\"\"Please recover the text from the corrupted OCR, providing appropriate paragraph breaks. Do not add any text, commentary, or lead in sentences  beyond the recovered text\"\"\"\n",
    "\n",
    "#system_message = \"\"\n",
    "\n",
    "#prompt = OCR_text"
   ]
  },
  {
   "cell_type": "code",
   "execution_count": 7,
   "metadata": {},
   "outputs": [],
   "source": [
    "configurations = [create_config_dict_func(\n",
    "    get_response_func = get_response_anthropic,\n",
    "    rate_limiter = RateLimiter(40000),\n",
    "    engine = \"claude-3-haiku-20240307\",\n",
    "    system_message_template = \"\",\n",
    "    prompt_template =  \"{content_html}\"+f\"\"\" \\n \\n \"\"\"+ system_message,\n",
    "    additional_args={'response_name':'haiku_nosm_base'}\n",
    "),\n",
    "\n",
    "create_config_dict_func(\n",
    "    get_response_func = get_response_anthropic,\n",
    "    rate_limiter = RateLimiter(40000),\n",
    "    engine = \"claude-3-opus-20240229\",\n",
    "    system_message_template = system_message,\n",
    "    prompt_template =  \"{content_html}\",\n",
    "    additional_args={'response_name':'opus_base'}\n",
    ")]"
   ]
  },
  {
   "cell_type": "code",
   "execution_count": 8,
   "metadata": {},
   "outputs": [
    {
     "name": "stderr",
     "output_type": "stream",
     "text": [
      "/home/jonno/redigitalize/llm_caller.py:237: FutureWarning: The behavior of DataFrame concatenation with empty or all-NA entries is deprecated. In a future version, this will no longer exclude empty or all-NA columns when determining the result dtypes. To retain the old behavior, exclude the relevant entries before the concat operation.\n",
      "  times_df = pd.concat([times_df, pd.DataFrame([new_records], index = [0])], ignore_index=True)\n"
     ]
    }
   ],
   "source": [
    "use_df_to_call_llm_api(config_dict, dev_data_raw_df, 'haiku_base' , folder_path='./data/dev_corrected')"
   ]
  },
  {
   "cell_type": "code",
   "execution_count": 9,
   "metadata": {},
   "outputs": [],
   "source": [
    "def compare_request_configurations(df, configurations, folder_path = './data'):\n",
    "    \"\"\"\n",
    "    Used to compare different prompt/system message/llm configurations using a dataframe as the basic datasource\n",
    "\n",
    "    The function runs various configurations of prompt, system message and LLM engine and saves the results in a structured,\n",
    "    folder. Is designed to help compare and tune approaches.\n",
    "\n",
    "    Parameters:\n",
    "    - df (pandas.DataFrame): The DataFrame containing base data to be processed.\n",
    "    - configurations (list of dicts): A list where each dict contains the parameters for a\n",
    "      `use_df_to_call_llm_api` call, see the function `create_config_dict_func` for how to create a configuration dictionary.\n",
    "    \"\"\"\n",
    "    for config_dict in configurations:\n",
    "        \n",
    "        response_name = config_dict['response_name']\n",
    "\n",
    "        # Call perform_capoc with the current configuration\n",
    "        use_df_to_call_llm_api(config_dict, df, response_name , folder_path)\n"
   ]
  },
  {
   "cell_type": "code",
   "execution_count": 10,
   "metadata": {},
   "outputs": [
    {
     "name": "stderr",
     "output_type": "stream",
     "text": [
      "/home/jonno/redigitalize/llm_caller.py:237: FutureWarning: The behavior of DataFrame concatenation with empty or all-NA entries is deprecated. In a future version, this will no longer exclude empty or all-NA columns when determining the result dtypes. To retain the old behavior, exclude the relevant entries before the concat operation.\n",
      "  times_df = pd.concat([times_df, pd.DataFrame([new_records], index = [0])], ignore_index=True)\n",
      "/home/jonno/redigitalize/llm_caller.py:237: FutureWarning: The behavior of DataFrame concatenation with empty or all-NA entries is deprecated. In a future version, this will no longer exclude empty or all-NA columns when determining the result dtypes. To retain the old behavior, exclude the relevant entries before the concat operation.\n",
      "  times_df = pd.concat([times_df, pd.DataFrame([new_records], index = [0])], ignore_index=True)\n"
     ]
    }
   ],
   "source": [
    "compare_request_configurations(dev_data_raw_df, configurations, folder_path='./data/dev_corrected')"
   ]
  },
  {
   "cell_type": "code",
   "execution_count": null,
   "metadata": {},
   "outputs": [],
   "source": [
    "rate_limiter = RateLimiter(50000)\n",
    "\n",
    "test = get_response_anthropic(prompt, system_message, rate_limiter, engine=\"claude-3-haiku-20240307\", max_tokens = 4000)"
   ]
  },
  {
   "cell_type": "code",
   "execution_count": null,
   "metadata": {},
   "outputs": [
    {
     "data": {
      "text/plain": [
       "Message(id='msg_01RDuf2hzxmMSCQHRQkQT9XH', content=[ContentBlock(text='Here is the text recovered from the corrupted OCR, with appropriate paragraph breaks:\\n\\nMy dear Sir, —When I proposed to give you a report on these new prophets, who, if as true as they are new, open to us a wide and most interesting field for inquiry, overthrow ancient and modern systems of science and belief, shake to the very foundation revealed religion and Christianity, but, on the other hand, are telling almost equally strong against Pantheism and Atheism, I had not seen those prophets, expounders, mediums, or whatever you may call them, myself; but what I heard from a friend, a clear-sighted, well-informed, by no means \"gullible,\" or over-credulous gentleman, who had paid them a visit, had made me anxious to see and judge for myself; and he having determined, for better satisfaction, to have the Medium (and the spirits) at his own house, and having kindly invited me to be present on the occasion, I offered to furnish you with a statement of the result of the evening, which I now, agreeably to your wish, lay before you.\\n\\nWe were five of us in the library, —my friend, his wife, his sister, his nephew, and myself, —when the footman, handing in a card, announced \"Mrs. Hayden.\" Her entrance and deportment were easy, unembarrassed, and yet not \"business-like;\" her exterior rather prepossessing; an intelligent countenance, with, perhaps, a slight touch of Yankeeism in the corner of the eye; and the conversation soon bring established, showed that she did not lack those powers of speech so peculiar to the citizens of the great Republic; though certain mistakes now and then recurring in the conjugation of verbs, indicated that she could not have had a very fine-rate education. We took our seats round the table on which the card had been placed, [and, — \"Mr. and Mrs. W. R. Hayden, 22, Queen Anne-street, Cavendish-square.\" Expectation created silence, now and then broken by questions in a low voice, addressed to the Medium, and by the wheels of carriages that brought guests to an evening party at a neighbouring house, and thus made the otherwise very quiet street rather noisy. The raps which the Medium and one or two of us, after we had been seated for about ten', type='text')], model='claude-3-haiku-20240307', role='assistant', stop_reason='end_turn', stop_sequence=None, type='message', usage=Usage(input_tokens=787, output_tokens=526))"
      ]
     },
     "execution_count": 26,
     "metadata": {},
     "output_type": "execute_result"
    }
   ],
   "source": [
    "message"
   ]
  },
  {
   "cell_type": "markdown",
   "metadata": {},
   "source": [
    "fcm E ¥ gNlGP «® WOTH ) THE R&PP ^ Ol SPBRBTTS . [ The following Letter was written at our request . The writer , a German friend , whose integrity and clear-headedness would command attention to whatever he might assert , informed us of his proposed visit to a house where the Rappitcs were to exhibit , and we begged him to furnish us with a report . We print his letter without any alteration : its statements will , we think , set the reader speculating .Let it be distinctly borne in mind , however , that in printing this Letter we give no countenance whatever to the pretended explanation of \" Rapping . \" We have our own views of the jugglery by which the \"ghosts \" are made to communicate with persons willing to pay for the interview , and in a very short time we hope to lay before our readers something like an experimental result . ] My dear Sir , —When I proposed to give you a report on these new prophets , who , if as true as they arc new , open to us a wide and most interesting field for inquiry , overthrow ancient and modem systems of science and belief , shake to the very foundation revealed religion andChristianity , hut , on the other hand , arc telling almost equally strong against Pantheism mid Atheism , I had not seen those prophets , expounders , mediums , or whatever you may call them , myself ; hut what I heard from a friend , a clear-sighted , well-informed , by no moans \" gullible , \" or over-credulous gentleman , who had paid them ii visit , had made me anxious to see and judge for myself ; and he having determined , for better satisfaction , to have the Medium ( and the spirits ) at his own house , and having kindly invited me to be present on the occasion , 1 offered to furnish you with a statement of the result of the evening , which I now , agreeably to your wish , lay before you .We were five of us in the library , —my friend , his wife , his sister , his nephew , and myself , —when the footman , handing in a card , announced \"Mrs . JIayden . \" Her entrance and deportment were easy , unembarrassed , and yet not \" business-like ; \" her exterior rather prepossessing ; an intelligent countenance , with , perhaps , a slight touch of Yankccisin in the corner of the eye ; and the conversation soon bring established , showed that she did not lack those powers of speech so peculiar to the . citizens of the great Republic ; though certain mistakes now and then recurring in the conjugation of verbs , indicated that nhe could not have had a very fin ;! -rate education . We took our seats round the table on which the card had been placed , [ mid , — \"Mr . and Mrs . W . R . Jlirydeii , L' 2 , Queen Anne-street , Cavenuish-. squarc . \" Expectation created silence , now and then broken by . qiiestions in a low voice , addressed to the Medium , and by the wheels of carriages that brought guests to an evening party at a neighbouring house , and thus tnadd the otherwise very quirt sired ; liither noisy . Tho raps which the Medium and one or two of us , after we had been seated for about ten\n",
    "\n",
    "Please recover the text from the corrupted OCR, providing appropriate paragraph breaks. Do not add any text, commentary, or lead in sentences  beyond the recovered text, for example for the text\n",
    "\n",
    "\"Md BRO5n0n D1e] t@ ay\"\n",
    "\n",
    "The correct response would be\n",
    "\n",
    "\"Mr Bronson Died today\"\n",
    "\n",
    "An incorrect response would be \n",
    "\n",
    "\"Sure here is the recovered text: Mr Bronson died today\"\n",
    "\n",
    "Another incorrect response would be\n",
    "\n",
    "\"Here is the recovered text from the corrupted OCR: Mr Bronson died today\"\n",
    "\n",
    "In both cases a lead in sentence was generated which is why the example responses were incorrect\n",
    "\n"
   ]
  }
 ],
 "metadata": {
  "kernelspec": {
   "display_name": ".venv",
   "language": "python",
   "name": "python3"
  },
  "language_info": {
   "codemirror_mode": {
    "name": "ipython",
    "version": 3
   },
   "file_extension": ".py",
   "mimetype": "text/x-python",
   "name": "python",
   "nbconvert_exporter": "python",
   "pygments_lexer": "ipython3",
   "version": "3.11.6"
  }
 },
 "nbformat": 4,
 "nbformat_minor": 2
}
