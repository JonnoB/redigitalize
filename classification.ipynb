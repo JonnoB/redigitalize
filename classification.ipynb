{
 "cells": [
  {
   "cell_type": "markdown",
   "metadata": {},
   "source": [
    "# Class and genre classification\n",
    "\n",
    "\n",
    "This note book focuses on classifying the corrected documents into genre and IPTC class\n",
    "\n",
    "The approach taken in this notebook is that classifying the text can be performed by a much simpler model, as such the train set will be used to generate a silver label set of data on which a BERT model will be trained. There will be two models\n",
    "\n",
    "- BERT G: Classifies genres\n",
    "- BERT T: Classifies Topics"
   ]
  },
  {
   "cell_type": "code",
   "execution_count": null,
   "metadata": {},
   "outputs": [],
   "source": [
    "#import config  # Import your config.py file this contains you openai api key\n",
    "import pandas as pd\n",
    "import numpy as np\n",
    "import os\n",
    "from llm_comparison_toolkit import RateLimiter, get_response_openai, get_response_anthropic,  create_config_dict_func, use_df_to_call_llm_api, compare_request_configurations\n",
    "from evaluation_funcs import evaluate_correction_performance, evaluate_correction_performance_folders, get_metric_error_reduction\n",
    "import seaborn as sns\n",
    "import matplotlib.pyplot as plt\n",
    "\n",
    "dev_transcripts = 'data/dev_data_transcript'\n",
    "\n",
    "#load the dev and test sets for prompt development and selection\n",
    "dev_data_df = pd.read_csv('data/dev_data_raw.csv')\n",
    "test_data_df = pd.read_csv('data/test_data_raw.csv')"
   ]
  },
  {
   "cell_type": "markdown",
   "metadata": {},
   "source": [
    "## Genre classes\n",
    "\n",
    "This paper uses the below classes to categorise the article types. As can be seen definition is left up to the LLM\n"
   ]
  },
  {
   "cell_type": "code",
   "execution_count": null,
   "metadata": {},
   "outputs": [],
   "source": [
    "genre_prompt = \"\"\"\n",
    "Read following article.\n",
    ":::\n",
    "{truncated_text}\n",
    ":::\n",
    "\n",
    "You are a machine that classifies newspaper articles. Your response  is limited to choices from the following json\n",
    "        {0: 'news report',\n",
    "        1: 'editorial',\n",
    "        2: 'letter',\n",
    "        3: 'advert',\n",
    "        4: 'review',\n",
    "        5: 'poem/song/story',\n",
    "        6: 'other'}\n",
    "        you will respond using a single digit.\n",
    "\n",
    "    For example given the text \"Mr Bronson died today, he was a kind man\" your answer would be\n",
    "    6\n",
    "    \n",
    "    Alternatively given the text \"The prime minster spoke at parliament today\" your answer would be\n",
    "    0\n",
    "    \"\"\"\n",
    "\n"
   ]
  },
  {
   "cell_type": "markdown",
   "metadata": {},
   "source": [
    "## IPTC classes\n",
    "\n",
    "THe below prompt is for the IPTC Topic classes using the level one classification nomenclature"
   ]
  },
  {
   "cell_type": "code",
   "execution_count": null,
   "metadata": {},
   "outputs": [],
   "source": [
    "IPTC_prompt = \"\"\"\n",
    "Read following article.\n",
    ":::\n",
    "{truncated_text}\n",
    ":::\n",
    "\n",
    "You are a machine that classifies newspaper articles. Your response  is limited to choices from the following json\n",
    "    {0: 'arts, culture, entertainment and media',\n",
    "    1: 'crime, law and justice',\n",
    "    2: 'disaster, accident and emergency incident',\n",
    "    3: 'economy, business and finance',\n",
    "    4: 'education',\n",
    "    5: 'environment',\n",
    "    6: 'health',\n",
    "    7: 'human interest',\n",
    "    8: 'labour',\n",
    "    9: 'lifestyle and leisure',\n",
    "    10: 'politics',\n",
    "    11: 'religion',\n",
    "    12: 'science and technology',\n",
    "    13: 'society',\n",
    "    14: 'sport',\n",
    "    15: 'conflict, war and peace',\n",
    "    16: 'weather'}\n",
    "    you will respond using a numeric python list.\n",
    "\n",
    "For example given the text \"The War with spain has forced schools to close\" your answer would be\n",
    "[15,4]\n",
    "\n",
    "Alternatively given the text \"The prime minster spoke at parliament today\" your answer would be\n",
    "[10]\n",
    "\"\"\""
   ]
  },
  {
   "cell_type": "markdown",
   "metadata": {},
   "source": [
    "# Creating model configs\n",
    "\n",
    "For simplicity the same functions used for cleaning the ocr will be used here, this means that each text will create it's own file containing at most a few numbers. There are obviously more efficient ways of doing this"
   ]
  },
  {
   "cell_type": "code",
   "execution_count": null,
   "metadata": {},
   "outputs": [],
   "source": []
  }
 ],
 "metadata": {
  "language_info": {
   "name": "python"
  }
 },
 "nbformat": 4,
 "nbformat_minor": 2
}
